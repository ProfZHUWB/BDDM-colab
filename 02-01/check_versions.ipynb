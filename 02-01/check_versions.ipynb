{
 "nbformat": 4,
 "nbformat_minor": 0,
 "metadata": {
  "colab": {
   "name": "BD-01-check_versions.ipynb",
   "provenance": [],
   "authorship_tag": "ABX9TyNZi+gJSgLTGU3cZU9WAFzF"
  },
  "kernelspec": {
   "name": "python3",
   "display_name": "Python 3"
  },
  "language_info": {
   "name": "python"
  }
 },
 "cells": [
  {
   "cell_type": "markdown",
   "source": [
    "author: Prof. Wenbin Zhu (i@zhuwb.com)\n",
    "\n",
    "date: 14 Jun 2022\n",
    "\n",
    "# Check version of common packages"
   ],
   "metadata": {
    "id": "BEgorzaLfok1",
    "pycharm": {
     "name": "#%% md\n"
    }
   }
  },
  {
   "cell_type": "code",
   "execution_count": 1,
   "outputs": [
    {
     "name": "stdout",
     "output_type": "stream",
     "text": [
      "Selected Jupyter core packages...\n",
      "IPython          : 8.3.0\n",
      "ipykernel        : 6.9.1\n",
      "ipywidgets       : not installed\n",
      "jupyter_client   : 7.2.2\n",
      "jupyter_core     : 4.10.0\n",
      "jupyter_server   : not installed\n",
      "jupyterlab       : not installed\n",
      "nbclient         : 0.5.13\n",
      "nbconvert        : 6.4.4\n",
      "nbformat         : 5.3.0\n",
      "notebook         : 6.4.11\n",
      "qtconsole        : 5.3.0\n",
      "traitlets        : 5.1.1\n",
      "Python Version = 3.9.12 (main, Apr  4 2022, 05:22:27) [MSC v.1916 64 bit (AMD64)]\n",
      "numpy.__version__ = 1.20.3\n",
      "pandas.__version__ = 1.4.2\n",
      "sklearn.__version__ = 1.0.2\n",
      "keras.__version__ = 2.9.0\n",
      "torch.__version__ = 1.11.0\n",
      "matplotlib.__version__ = 3.5.1\n"
     ]
    }
   ],
   "source": [
    "!jupyter --version\n",
    "import sys\n",
    "print(f'Python Version = {sys.version}')\n",
    "try:\n",
    "    import numpy\n",
    "    print(f'numpy.__version__ = {numpy.__version__}')\n",
    "except ImportError:\n",
    "    print(f'numpy not installed')\n",
    "try:\n",
    "    import pandas\n",
    "    print(f'pandas.__version__ = {pandas.__version__}')\n",
    "except ImportError:\n",
    "    print(f'pandas not installed')\n",
    "try:\n",
    "    import sklearn\n",
    "    print(f'sklearn.__version__ = {sklearn.__version__}')\n",
    "except ImportError:\n",
    "    print(f'sklearn not installed')\n",
    "try:\n",
    "    import keras\n",
    "    print(f'keras.__version__ = {keras.__version__}')\n",
    "except ImportError:\n",
    "    print(f'keras not installed')\n",
    "try:\n",
    "    import torch\n",
    "    print(f'torch.__version__ = {torch.__version__}')\n",
    "except ImportError:\n",
    "    print(f'torch not installed')\n",
    "try:\n",
    "    import matplotlib\n",
    "    print(f'matplotlib.__version__ = {matplotlib.__version__}')\n",
    "except ImportError:\n",
    "    print(f'matplotlib not installed')"
   ],
   "metadata": {
    "collapsed": false,
    "pycharm": {
     "name": "#%%\n"
    }
   }
  },
  {
   "cell_type": "code",
   "execution_count": null,
   "outputs": [],
   "source": [],
   "metadata": {
    "collapsed": false,
    "pycharm": {
     "name": "#%%\n"
    }
   }
  }
 ]
}